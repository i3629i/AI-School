{
 "cells": [
  {
   "cell_type": "markdown",
   "metadata": {},
   "source": [
    "### 목차\n",
    "1. 신경망 기초\n",
    "1. 퍼셉트론\n",
    "1. 다층 퍼셉스론(Multi Layer Perceptron)\n",
    "1. 학습 방법의 종류"
   ]
  },
  {
   "cell_type": "markdown",
   "metadata": {},
   "source": [
    "### 신경망 기초\n",
    "\n",
    "#### Activation Functions\n",
    "\n",
    "![activation function](https://user-images.githubusercontent.com/50629716/62270114-231dc080-b470-11e9-9cd0-440973054e77.PNG)\n",
    "\n",
    "* cell Body\n",
    "$$ \\sum ^{n}_{i}W_{i}x_{i}+b $$\n",
    "\n",
    "신경망의 원리 예 : 위의 cell Body 이 어떤 값을 넘으면 1, 넘지 않으면 0 으로 output\n",
    "\n",
    "아래의 DataFrame의 구체적인 예시 \n",
    "* y  = 1X(-5) + 1X6 = 1\n",
    "* bias 난 태생적으로 비가 싫어 가중치 = -2\n",
    "* y = 1 - 2 \n",
    "y값이 -1 이므로 0보다 작으므로 ,외출 안함\n",
    "\n",
    "#### Gate뉴런들\n",
    "\n",
    "And, or, Nand 는 생략\n",
    "\n",
    "XOR Gate\n",
    "* XOR 게이트는 단층 퍼셉트론으로는 만들수 없다. OR 과 NAND를 이용\n",
    "* AND(OR(x1,x2), NAND(x1,x2))"
   ]
  },
  {
   "cell_type": "code",
   "execution_count": 9,
   "metadata": {},
   "outputs": [
    {
     "name": "stdout",
     "output_type": "stream",
     "text": [
      "  x,w,y    값           의미\n",
      "0    x1  1.0         비가온다\n",
      "1    x2  1.0   여친이 만나자 한다\n",
      "2    w1 -5.0   비를 좋아하는 정도\n",
      "3    w2  6.0  여친을 좋아하는 정도\n",
      "4     y  NaN     외출한다/안한다\n"
     ]
    }
   ],
   "source": [
    "import pandas as pd\n",
    "import numpy as np\n",
    "a = {'x,w,y' : ['x1','x2','w1','w2','y'],\n",
    "    '값' : [1,1,-5,6,None],\n",
    "    '의미' : ['비가온다','여친이 만나자 한다','비를 좋아하는 정도','여친을 좋아하는 정도','외출한다/안한다']}\n",
    "\n",
    "print(pd.DataFrame(a,columns =['x,w,y', '값', '의미']))"
   ]
  },
  {
   "cell_type": "markdown",
   "metadata": {},
   "source": [
    "#### 딥러닝에서 자주 사용하는 활성화 함수\n",
    "1. SIgmoid\n",
    "$$ \\sigma \\left( x\\right) =\\dfrac {1}{1+e^{-\\left( x\\right) }} $$\n",
    "시그모이드는 많이 다루었기 때문에 생략\n",
    "0또는 1 값으로 출력\n",
    "1. tanh\n",
    "![tanh](https://user-images.githubusercontent.com/50629716/62272209-878f4e80-b475-11e9-80b4-c4787aa4fcca.PNG)\n",
    " $$ \\tanh \\left( x\\right) =\\dfrac {e-e^{-x}}{e^{x}+e^{-x}} $$\n",
    " \n",
    "SIgmoid 의 대체제로 사용될 수 있는 활성화 함수.\n",
    "\n",
    "**출력 범위가 -1 에서 1사이**\n",
    "\n",
    "기본 미분 공식\n",
    "$$ \\begin{align}\n",
    "(e^{x})’ &= e^{x} \\\\ \n",
    "(e^{-x})’ &= -e^{-x} \\\\ \n",
    "\\big[ \\frac{f(x)}{g(x)}\\big]’ & = \\frac{f’(x)g(x)-f(x)g’(x)}{g^2(x)}\n",
    "\\end{align} $$\n",
    "\n",
    "http://taewan.kim/post/tanh_diff/ tanh 미분공식\n",
    " \n",
    "1. ReLU\n",
    "![Relu](https://user-images.githubusercontent.com/50629716/62272924-38e2b400-b477-11e9-8e93-d805970d3c70.PNG)\n",
    "$$ f\\cdot \\left( x\\right) =\\begin{cases}0 for x\\leq 0\\\\\n",
    "xforx >0\\end{cases} $$\n",
    "\n",
    "* ReLu는 0보다 작을때는 0을 사용한다.\n",
    "* 0보다 큰 값에 대해서는 해당값을 그대로 사용한다.\n"
   ]
  },
  {
   "cell_type": "code",
   "execution_count": null,
   "metadata": {},
   "outputs": [],
   "source": []
  }
 ],
 "metadata": {
  "kernelspec": {
   "display_name": "Python 3",
   "language": "python",
   "name": "python3"
  },
  "language_info": {
   "codemirror_mode": {
    "name": "ipython",
    "version": 3
   },
   "file_extension": ".py",
   "mimetype": "text/x-python",
   "name": "python",
   "nbconvert_exporter": "python",
   "pygments_lexer": "ipython3",
   "version": "3.7.3"
  }
 },
 "nbformat": 4,
 "nbformat_minor": 2
}
