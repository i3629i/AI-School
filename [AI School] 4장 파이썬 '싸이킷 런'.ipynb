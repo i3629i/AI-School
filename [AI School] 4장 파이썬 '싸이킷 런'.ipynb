{
 "cells": [
  {
   "cell_type": "code",
   "execution_count": 7,
   "metadata": {},
   "outputs": [
    {
     "name": "stdout",
     "output_type": "stream",
     "text": [
      "정확도(accuracy) :  1.0\n"
     ]
    }
   ],
   "source": [
    "from sklearn.datasets import load_iris\n",
    "from sklearn.tree import DecisionTreeClassifier #의사결정 알고리즘 지원\n",
    "from sklearn.model_selection import train_test_split\n",
    "from sklearn.metrics import accuracy_score #평가 Classification, Regression, Clustering 등 성능 측정 방법 제공\n",
    "\n",
    "\n",
    "iris = load_iris() # Iris 데이터 세트 불러오기\n",
    "\n",
    "\n",
    "dt_clf = DecisionTreeClassifier()       # Classification에 사용할 모델 불러오기\n",
    "train_data = iris.data                  # 학습에 사용할 Train 데이터 저장\n",
    "train_label = iris.target               # 학습에 사용할 Train Label 저장 iris의 종류를 정해주는 것\n",
    "dt_clf.fit(train_data, train_label)     # 학습 진행\n",
    "\n",
    "pred = dt_clf.predict(train_data)       # 학습된 모델을 검증\n",
    "print(\"정확도(accuracy) : \", accuracy_score(train_label, pred))    # 정확도 출력"
   ]
  },
  {
   "cell_type": "markdown",
   "metadata": {},
   "source": [
    "사이킷런 익히기\n",
    "sklearn.datasets : 예제 데이터 세트 제공함\n",
    "### 여기선 Iris 데이터 셋을 제공\n",
    "ML 알고리즘\n",
    "sklearn.ensemble : 앙상블 알고리즘 제공\n",
    "sklearn.linear_model : 선형 회귀 및 로지스틱 회귀 등 Regression 관련 알고리즘 지원\n",
    "sklearn.naive_bayes : 나이브 베이즈 알고리즘 제공\n",
    "sklearn.neighbors : 최근접 이웃 알고리즘 제공\n",
    "sklearn.svm : Support Vector Machine 알고리즘 제공\n",
    "sklearn.tree : 의사 결정 트리 알고리즘 제공\n",
    "sklearn.cluster : 비지도 클러스터링 (Unsupervised Clustering) 알고리즘 제공\n",
    "각종 모델을 사용\n",
    "\n",
    "사용할 모델.fit(train데이터, train종류들)\n",
    "pred = 사용할 모델.predict(train데이터)\n",
    "\n",
    "정확도 검증 : sklearn.metrics(train종류들, pred)"
   ]
  },
  {
   "cell_type": "code",
   "execution_count": 16,
   "metadata": {},
   "outputs": [
    {
     "name": "stdout",
     "output_type": "stream",
     "text": [
      "100.0\n",
      "0.9210526315789473\n"
     ]
    }
   ],
   "source": [
    "import numpy as np\n",
    "import pandas as pd\n",
    "from sklearn.datasets import load_iris\n",
    "from sklearn.tree import DecisionTreeClassifier\n",
    "from sklearn.model_selection import train_test_split\n",
    "from sklearn.metrics import accuracy_score\n",
    "\n",
    "iris = load_iris()\n",
    "data_clf = DecisionTreeClassifier()\n",
    "data_clf.fit(iris.data,iris.target)\n",
    "pred = data_clf.predict(iris.data)\n",
    "print(accuracy_score(iris.target,pred)*100)\n",
    "#위와같은 정확도는 전체데이터를 검증데이터로 사용하므로 정확도가 모두같은 100% 확률이 나온다\n",
    "\n",
    "X_train, X_test, Y_train, Y_test = train_test_split(iris.data,pred,test_size = 0.25) \n",
    "data_clf.fit(X_train, Y_train) #데이터들을 data_clf모델로 학습 진행\n",
    "pred = data_clf.predict(X_test) #위의 학습한 데이터를 성능 평가를위해 pred리스트에 삽입\n",
    "\n",
    "print(accuracy_score(Y_test,pred))"
   ]
  },
  {
   "cell_type": "markdown",
   "metadata": {},
   "source": [
    "train_test_split(arrays, test_size, train_size, random_state, shuffle, stratify)\n",
    "arrays : 데이터 입력\n",
    "test_size : Test data의 비율 (default = 0.25)\n",
    "train_size : Train data의 비율 (default = 나머지 데이터)\n",
    "random_state : shuffle을 위한 시드값\n",
    "shuffle : shuffle 여부 (default = True)\n",
    "stratify : Dataset의 비율 유지"
   ]
  },
  {
   "cell_type": "code",
   "execution_count": null,
   "metadata": {},
   "outputs": [],
   "source": []
  }
 ],
 "metadata": {
  "kernelspec": {
   "display_name": "Python 3",
   "language": "python",
   "name": "python3"
  },
  "language_info": {
   "codemirror_mode": {
    "name": "ipython",
    "version": 3
   },
   "file_extension": ".py",
   "mimetype": "text/x-python",
   "name": "python",
   "nbconvert_exporter": "python",
   "pygments_lexer": "ipython3",
   "version": "3.7.3"
  }
 },
 "nbformat": 4,
 "nbformat_minor": 2
}
